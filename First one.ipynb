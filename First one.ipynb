{
  "nbformat": 4,
  "nbformat_minor": 0,
  "metadata": {
    "colab": {
      "provenance": [],
      "mount_file_id": "1vZsjLNiganB4KNSdg49Ygo7lVWkzWCBz",
      "authorship_tag": "ABX9TyPFI2/sP2If4hl3HFFBqVxE",
      "include_colab_link": true
    },
    "kernelspec": {
      "name": "python3",
      "display_name": "Python 3"
    },
    "language_info": {
      "name": "python"
    }
  },
  "cells": [
    {
      "cell_type": "markdown",
      "metadata": {
        "id": "view-in-github",
        "colab_type": "text"
      },
      "source": [
        "<a href=\"https://colab.research.google.com/github/rothrigow/novo_colabfirst/blob/main/First%20one.ipynb\" target=\"_parent\"><img src=\"https://colab.research.google.com/assets/colab-badge.svg\" alt=\"Open In Colab\"/></a>"
      ]
    },
    {
      "cell_type": "code",
      "execution_count": 3,
      "metadata": {
        "colab": {
          "base_uri": "https://localhost:8080/"
        },
        "id": "8GR11I_cDa-F",
        "outputId": "436a4459-f3b4-43f4-d354-1788a7776641"
      },
      "outputs": [
        {
          "output_type": "stream",
          "name": "stdout",
          "text": [
            "Meu nome é Rodrigo e tenho 37 anos de idade\n",
            "Meu nome é Rodrigo e tenho 37 anos de idade\n"
          ]
        }
      ],
      "source": [
        "age = 37\n",
        "name = 'Rodrigo'\n",
        "print (f'Meu nome é {name} e tenho {age} anos de idade')\n",
        "\n",
        "\n",
        "age, name = ( 37, 'Rodrigo')\n",
        "print (f'Meu nome é {name} e tenho {age} anos de idade')\n"
      ]
    }
  ]
}